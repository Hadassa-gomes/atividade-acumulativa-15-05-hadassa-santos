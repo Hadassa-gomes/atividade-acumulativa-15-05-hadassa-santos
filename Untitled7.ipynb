{
  "nbformat": 4,
  "nbformat_minor": 0,
  "metadata": {
    "colab": {
      "provenance": [],
      "authorship_tag": "ABX9TyN7Z2ecOTHiVtAQBU5gvUdw",
      "include_colab_link": true
    },
    "kernelspec": {
      "name": "python3",
      "display_name": "Python 3"
    },
    "language_info": {
      "name": "python"
    }
  },
  "cells": [
    {
      "cell_type": "markdown",
      "metadata": {
        "id": "view-in-github",
        "colab_type": "text"
      },
      "source": [
        "<a href=\"https://colab.research.google.com/github/Hadassa-gomes/atividade-acumulativa-15-05-hadassa-santos/blob/main/Untitled7.ipynb\" target=\"_parent\"><img src=\"https://colab.research.google.com/assets/colab-badge.svg\" alt=\"Open In Colab\"/></a>"
      ]
    },
    {
      "cell_type": "code",
      "execution_count": null,
      "metadata": {
        "colab": {
          "base_uri": "https://localhost:8080/"
        },
        "id": "vMmFp7KFl1iJ",
        "outputId": "ac866c57-35e3-4194-d105-0f908ad44f43"
      },
      "outputs": [
        {
          "output_type": "stream",
          "name": "stdout",
          "text": [
            "Digite uma letra:x\n",
            "A letra inserida é uma consoante\n"
          ]
        }
      ],
      "source": [
        "#1.programa de verificação vogal ou consoante\n",
        "vogal= ['a', 'e', 'i', 'o', 'u']\n",
        "consoante= ['b', 'c', 'd', 'f', 'g', 'h', 'j', 'k', 'l', 'm', 'n', 'p', 'q', 'r', 's', 't', 'v', 'x', 'z']\n",
        "letraDigitada = input('Digite uma letra:')\n",
        "if letraDigitada in vogal:\n",
        "  print('A letra inserida é uma vogal')\n",
        "else:\n",
        "  print('A letra inserida é uma consoante')"
      ]
    },
    {
      "cell_type": "code",
      "source": [
        "#2.programa dos 3 produtos\n",
        "preco1 = float(input('informe o preço do primeiro produto:'))\n",
        "preco2 = float(input('informe o preço do segundo produto:'))\n",
        "preco3 = float(input('informe o preço do terceiro produto:'))\n",
        "menorPreco = (preco1 or preco2 or preco3)\n",
        "if menorPreco == preco1:\n",
        "  print('você deve comprar o primeiro produto')\n",
        "elif menorPreco == preco2:\n",
        "  print('você deve comprar o segundo produto')\n",
        "else:\n",
        "  print('você deve comprar o terceiro produto')"
      ],
      "metadata": {
        "colab": {
          "base_uri": "https://localhost:8080/"
        },
        "id": "HTPgr8hXnZwM",
        "outputId": "b9449104-bd94-4b49-9b4a-5cc505419a3a"
      },
      "execution_count": null,
      "outputs": [
        {
          "output_type": "stream",
          "name": "stdout",
          "text": [
            "informe o preço do primeiro produto:10\n",
            "informe o preço do segundo produto:20\n",
            "informe o preço do terceiro produto:30\n",
            "você deve comprar o primeiro produto\n"
          ]
        }
      ]
    },
    {
      "cell_type": "code",
      "source": [
        "#3.Programa dos números em ordem decrescente\n",
        "numero1 = float(input('Digite o primeiro número:'))\n",
        "numero2 = float(input('Digite o segundo número:'))\n",
        "numero3 = float(input('Digite o terceiro número:'))\n",
        "if numero1 < numero2:\n",
        "   mumero1, numero2 = numero2, numero1\n",
        "if numero2 < numero3:\n",
        "  numero2, numero3 = numero3, numero2\n",
        "if numero1 < numero2:\n",
        "  mumero1, numero2 = numero2, numero1\n",
        "  print('números em ordem decrescente:')\n",
        "  print(numero1)\n",
        "  print(numero2)\n",
        "  print(numero3)\n"
      ],
      "metadata": {
        "colab": {
          "base_uri": "https://localhost:8080/"
        },
        "id": "T7Rxb756CsTl",
        "outputId": "620da38b-cd4c-4202-ffa3-d60791cc1ea0"
      },
      "execution_count": null,
      "outputs": [
        {
          "name": "stdout",
          "output_type": "stream",
          "text": [
            "Digite o primeiro número:4\n",
            "Digite o segundo número:6\n",
            "Digite o terceiro número:3\n"
          ]
        }
      ]
    },
    {
      "cell_type": "code",
      "source": [
        "#4.programa dos turnos\n",
        "turno = input('em qual turno você estuda?(M-matutuino, V-vespertino, N-noturno):')\n",
        "turnoDigitado = input('digite seu turno:')\n",
        "if turno == 'M':\n",
        "  print('bom dia!')\n",
        "elif  turno == 'V':\n",
        "  print('boa tarde!')\n",
        "elif turno == 'N':\n",
        "  print('boa noite!')\n",
        "else:\n",
        "  print('valor invalido. Por favor digite M, V ou N.')\n"
      ],
      "metadata": {
        "colab": {
          "base_uri": "https://localhost:8080/"
        },
        "id": "aWDDG0rLhAbu",
        "outputId": "c2126425-67a4-464a-f42d-7af6dd882ae8"
      },
      "execution_count": null,
      "outputs": [
        {
          "output_type": "stream",
          "name": "stdout",
          "text": [
            "em qual turno você estuda?(M-matutuino, V-vespertino, N-noturno):N\n",
            "digite seu turno:noite\n",
            "boa noite!\n"
          ]
        }
      ]
    },
    {
      "cell_type": "code",
      "source": [
        "#5.Programa dias da semana\n",
        "numero = int(input('digite um número de 1 a 7:'))\n",
        "if numero == 1:\n",
        "  print('domingo')\n",
        "elif numero == 2:\n",
        "  print('segunda')\n",
        "elif numero == 3:\n",
        "  print('terça')\n",
        "elif numero == 4:\n",
        "  print('quarta')\n",
        "elif numero == 5:\n",
        "  print('quinta')\n",
        "elif numero == 6:\n",
        "  print('sexta')\n",
        "elif numero == 7:\n",
        "  print('sabado')\n",
        "else:\n",
        "  print('valor invalido. Por favor, insira um numero de 1 a 7.')"
      ],
      "metadata": {
        "colab": {
          "base_uri": "https://localhost:8080/"
        },
        "id": "p40uaabxk0fC",
        "outputId": "aa129963-1838-47b0-8606-c88f1210a59c"
      },
      "execution_count": null,
      "outputs": [
        {
          "output_type": "stream",
          "name": "stdout",
          "text": [
            "digite um número de 1 a 7:7\n",
            "sabado\n"
          ]
        }
      ]
    },
    {
      "cell_type": "code",
      "source": [
        "#6.Programa de médias\n",
        "nota1 = float(input('Digite sua primeira nota:'))\n",
        "nota2 = float(input('Digite a sua segunda nota:'))\n",
        "media = (nota1 + nota2) / 2\n",
        "if(media >= 9 and media <=10):\n",
        "  print('suas notas foram:', nota1, 'and', nota2, '. sendo conceito A, aprovado')\n",
        "elif(media >= 7.5 and media <=9):\n",
        "  print('suas notas foram:', nota1, 'and', nota2, '. sendo conceito B, aprovado')\n",
        "elif(media >= 6 and media <= 7.5):\n",
        "  print('suas notas foram:', nota1, 'and', nota2, '. sendo conceito C, aprovado')\n",
        "elif(media >= 4 and media <= 6):\n",
        "  print('suas notas foram:', nota1, 'and', nota2, '. sendo conceito D, reprovado')\n",
        "elif(media >= 0 and media <= 4):\n",
        "  print('suas notas foram:', nota1, 'and', nota2, '. sendo conceito E, reprovado')\n",
        "else:\n",
        "  print('')\n",
        "\n",
        "\n"
      ],
      "metadata": {
        "id": "BlaqPXNxn-St",
        "colab": {
          "base_uri": "https://localhost:8080/"
        },
        "outputId": "87e987ac-239d-43b3-adba-b61667ce190c"
      },
      "execution_count": 4,
      "outputs": [
        {
          "output_type": "stream",
          "name": "stdout",
          "text": [
            "Digite sua primeira nota:10\n",
            "Digite a sua segunda nota:9\n",
            "suas notas foram: 10.0 and 9.0 . sendo conceito A, aprovado\n"
          ]
        }
      ]
    },
    {
      "cell_type": "code",
      "source": [
        "#7.programa ano bissexto\n",
        "ano = int(input('Digite o ano:'))\n",
        "if(ano%4 == 0):\n",
        "  print('Esse ano é um ano bissexto')\n",
        "else:\n",
        "  print('Esse ano não é bissexto')"
      ],
      "metadata": {
        "colab": {
          "base_uri": "https://localhost:8080/"
        },
        "id": "2gf_apXw-sUl",
        "outputId": "c542edc1-b832-409e-99f9-92f94c3f1f9a"
      },
      "execution_count": null,
      "outputs": [
        {
          "output_type": "stream",
          "name": "stdout",
          "text": [
            "Digite o ano:2020\n",
            "Esse ano é um ano bissexto\n"
          ]
        }
      ]
    },
    {
      "cell_type": "code",
      "source": [
        "#7.programa das operações\n",
        "numero1 = float(input('Digite o primeiro número: '))\n",
        "numero2 = float(input('Digite o segundo número: '))\n",
        "operacao = input('Qual operação você deseja realizar? (soma, subtração, multiplicação, divisão, exponenciação): ')\n",
        "\n",
        "if operacao == 'soma':\n",
        "    resultado = numero1 + numero2\n",
        "elif operacao == 'subtração':\n",
        "    resultado = numero1 - numero2\n",
        "elif operacao == 'multiplicação':\n",
        "    resultado = numero1 * numero2\n",
        "elif operacao == 'divisão':\n",
        "    if numero2 != 0:\n",
        "        resultado = numero1 / numero2\n",
        "    else:\n",
        "        print('Não é possível dividir por zero.')\n",
        "elif operacao == 'exponenciação':\n",
        "    resultado = numero1 ** numero2\n",
        "else:\n",
        "    print('Operação inválida.')\n",
        "\n",
        "if resultado % 2 == 0:\n",
        "    tipo_numero = 'par'\n",
        "else:\n",
        "    tipo_numero = 'ímpar'\n",
        "\n",
        "if resultado > 0:\n",
        "    sinal_numero = 'positivo'\n",
        "elif resultado < 0:\n",
        "    sinal_numero = 'negativo'\n",
        "else:\n",
        "    sinal_numero = 'neutro'\n",
        "\n",
        "if resultado.is_integer():\n",
        "    tipo_valor = 'inteiro'\n",
        "else:\n",
        "    tipo_valor = 'decimal'\n",
        "\n",
        "print('O resultado é', resultado, ', que é um número', tipo_numero + ',', sinal_numero, 'e', tipo_valor + '.')\n"
      ],
      "metadata": {
        "colab": {
          "base_uri": "https://localhost:8080/"
        },
        "id": "w28xkLpfUjyF",
        "outputId": "17d481e3-ec24-463c-c013-9f6899dbd953"
      },
      "execution_count": null,
      "outputs": [
        {
          "output_type": "stream",
          "name": "stdout",
          "text": [
            "Digite o primeiro número: 2\n",
            "Digite o segundo número: 4\n",
            "Qual operação você deseja realizar? (soma, subtração, multiplicação, divisão, exponenciação): multiplicação\n",
            "O resultado é 8.0 , que é um número par, positivo e inteiro.\n"
          ]
        }
      ]
    },
    {
      "cell_type": "code",
      "source": [
        "#8.programa da idade\n",
        "idade = int(input('Digite sua idade:'))\n",
        "if 0<= idade <= 150:\n",
        "  print('idade válida:', idade)\n",
        "else:\n",
        "    print('idade inválida. Por favor, digite uma idade entre o e 150.')\n"
      ],
      "metadata": {
        "colab": {
          "base_uri": "https://localhost:8080/"
        },
        "id": "HsEcUWFvWaKz",
        "outputId": "31370482-0b11-432b-b6e4-59d9bc5f0c07"
      },
      "execution_count": null,
      "outputs": [
        {
          "output_type": "stream",
          "name": "stdout",
          "text": [
            "Digite sua idade:152\n",
            "idade inválida. Por favor, digite uma idade entre o e 150.\n"
          ]
        }
      ]
    },
    {
      "cell_type": "code",
      "source": [
        "#9.programa dos cinco números\n",
        "soma = 0\n",
        "for i in range(5):\n",
        "  numero = float(input('digite um número:'))\n",
        "  soma += numero\n",
        "media = soma/5\n",
        "print('A soma dos números é:', soma)\n",
        "print('A média dos números é:', media)"
      ],
      "metadata": {
        "colab": {
          "base_uri": "https://localhost:8080/"
        },
        "id": "3H6ANPaRYdLa",
        "outputId": "7378fbf1-be86-4bac-b156-61b139aa901b"
      },
      "execution_count": null,
      "outputs": [
        {
          "output_type": "stream",
          "name": "stdout",
          "text": [
            "digite um número:2\n",
            "digite um número:5\n",
            "digite um número:1\n",
            "digite um número:6\n",
            "digite um número:4\n",
            "A soma dos números é: 18.0\n",
            "A média dos números é: 3.6\n"
          ]
        }
      ]
    },
    {
      "cell_type": "code",
      "source": [
        "#10.programa número inteiro e primo\n",
        "numero = int(input('digite um número inteiro:'))\n",
        "numero_primo = True\n",
        "if numero <= 1:\n",
        "  mumero_primo = False\n",
        "if numero_primo:\n",
        "  print('o número é um número primo')\n",
        "else:\n",
        "  print('o número não é um número primo.')\n"
      ],
      "metadata": {
        "colab": {
          "base_uri": "https://localhost:8080/"
        },
        "id": "FzN0u8Wnd3DS",
        "outputId": "422f0138-ae7b-41d0-e3fe-651c5c24729a"
      },
      "execution_count": null,
      "outputs": [
        {
          "output_type": "stream",
          "name": "stdout",
          "text": [
            "digite um número inteiro:5\n",
            "o número é um número primo\n"
          ]
        }
      ]
    },
    {
      "cell_type": "code",
      "source": [
        "#11.programa das cinco temperaturas\n",
        "temperatura1 = float(input('insira a temperatura 1:'))\n",
        "temperatura2 = float(input('insira a temperatura 2:'))\n",
        "temperatura3 = float(input('insira a temperatura 3:'))\n",
        "temperatura4 = float(input('insira a temperatura 4:'))\n",
        "temperatura5 = float(input('insira a temperatura 5:'))\n",
        "menorTemp = maiorTemp = temperatura1\n",
        "if temperatura2 < menorTemp:\n",
        "    menorTemp = temperatura2\n",
        "if temperatura2 > maiorTemp:\n",
        "    maiorTemp = temperatura2\n",
        "\n",
        "if temperatura3 < menorTemp:\n",
        "    menorTemp = temperatura3\n",
        "if temperatura3 > maiorTemp:\n",
        "    maiorTemp = temperatura3\n",
        "\n",
        "if temperatura4 < menorTemp:\n",
        "    menorTemp = temperatura4\n",
        "if temperatura4 > maiorTemp:\n",
        "    maiorTemp = temperatura4\n",
        "\n",
        "if temperatura5 < menorTemp:\n",
        "    menorTemp = temperatura5\n",
        "if temperatura5 > maiorTemp:\n",
        "    maiorTemp = temperatura5\n",
        "\n",
        "mediaTemp = (temperatura1 + temperatura2 + temperatura3 + temperatura4 + temperatura5) / 5\n",
        "print('a menor temperatura é:', menorTemp)\n",
        "print('a maior temperatura é:', maiorTemp)\n",
        "print('a média da temperatura é:', mediaTemp )\n",
        "\n",
        "\n",
        "\n",
        "\n"
      ],
      "metadata": {
        "id": "cY0yVeQgiR_Z",
        "colab": {
          "base_uri": "https://localhost:8080/"
        },
        "outputId": "792c0c3f-0ac9-4b3d-cbd5-5bdd44af8ee9"
      },
      "execution_count": 5,
      "outputs": [
        {
          "output_type": "stream",
          "name": "stdout",
          "text": [
            "insira a temperatura 1:14\n",
            "insira a temperatura 2:22\n",
            "insira a temperatura 3:27\n",
            "insira a temperatura 4:30\n",
            "insira a temperatura 5:40\n",
            "a menor temperatura é: 14.0\n",
            "a maior temperatura é: 40.0\n",
            "a média da temperatura é: 26.6\n"
          ]
        }
      ]
    },
    {
      "cell_type": "code",
      "source": [
        "#12.programa saldo médio crédito\n",
        "saldoMedio = float(input(\"Por favor, insira o saldo médio do último ano: \"))\n",
        "if saldoMedio <= 200:\n",
        "    credito = 0\n",
        "elif saldoMedio <= 400:\n",
        "    credito = saldoMedio * 0.20\n",
        "elif saldoMedio <= 600:\n",
        "    credito = saldoMedio * 0.30\n",
        "else:\n",
        "    credito = saldoMedio * 0.40\n",
        "\n",
        "print('saldo médio é:', saldoMedio)\n",
        "print('valor do crédito é:', credito)\n",
        "\n"
      ],
      "metadata": {
        "colab": {
          "base_uri": "https://localhost:8080/"
        },
        "id": "2VVqt9vukNHx",
        "outputId": "0c4f7dbe-5ba3-48fc-df91-875db9e785b6"
      },
      "execution_count": 6,
      "outputs": [
        {
          "output_type": "stream",
          "name": "stdout",
          "text": [
            "Por favor, insira o saldo médio do último ano: 250\n",
            "saldo médio é: 250.0\n",
            "valor do crédito é: 50.0\n"
          ]
        }
      ]
    },
    {
      "cell_type": "code",
      "source": [
        "#13. Programa ano de aposentadoria\n",
        "nome = input(\"Por favor, insira seu nome: \")\n",
        "idadeAtual = int(input(\"Por favor, insira sua idade atual: \"))\n",
        "anoAtual = 2024\n",
        "anoAposentar = 65-idadeAtual\n",
        "anoAposentadoria = anoAtual + anoAposentar\n",
        "print((nome), 'você poderá se aposentar no ano de:', (anoAposentadoria))\n",
        "\n"
      ],
      "metadata": {
        "colab": {
          "base_uri": "https://localhost:8080/"
        },
        "id": "amqonMEH7hnU",
        "outputId": "573d9078-e3f1-40e3-f4fb-6f9a7f3d0a26"
      },
      "execution_count": 11,
      "outputs": [
        {
          "output_type": "stream",
          "name": "stdout",
          "text": [
            "Por favor, insira seu nome: maria\n",
            "Por favor, insira sua idade atual: 64\n",
            "maria você poderá se aposentar no ano de: 2025\n"
          ]
        }
      ]
    },
    {
      "cell_type": "code",
      "source": [
        "#14. programa calculo folha de pagamento\n",
        "valorHora = float(input(\"Por favor, insira o valor da sua hora de trabalho: \"))\n",
        "horasTrabalhadas = float(input(\"Por favor, insira a quantidade de horas trabalhadas no mês: \"))\n",
        "salarioBruto = valorHora * horasTrabalhadas\n",
        "\n",
        "if salarioBruto <= 2112.00:\n",
        "    ir = 0\n",
        "elif salarioBruto <= 2826.65:\n",
        "    ir = salarioBruto * 0.075\n",
        "elif salarioBruto <= 3751.05:\n",
        "    ir = salarioBruto * 0.15\n",
        "elif salarioBruto <= 4664.68:\n",
        "    ir = salarioBruto * 0.225\n",
        "else:\n",
        "    ir = salarioBruto * 0.275\n",
        "\n",
        "sindicato = salarioBruto * 0.03\n",
        "fgts = salarioBruto * 0.11\n",
        "\n",
        "salarioLiquido = salarioBruto and ir and sindicato\n",
        "\n",
        "print('Salário Bruto é:', salarioBruto)\n",
        "print('Desconto iR é:', ir)\n",
        "print('Desconto sindicato é:', sindicato)\n",
        "print('FGTS é:', fgts, '(não descontado do salário)')\n",
        "print('Salário liquido é:', salarioLiquido)\n",
        "\n",
        "\n",
        "\n"
      ],
      "metadata": {
        "colab": {
          "base_uri": "https://localhost:8080/"
        },
        "id": "lyhuj0LR94uF",
        "outputId": "766cf811-cd0c-4e73-a0e7-25174e86e2c8"
      },
      "execution_count": 22,
      "outputs": [
        {
          "output_type": "stream",
          "name": "stdout",
          "text": [
            "Por favor, insira o valor da sua hora de trabalho: 15\n",
            "Por favor, insira a quantidade de horas trabalhadas no mês: 220\n",
            "Salário Bruto é: 3300.0\n",
            "Desconto iR é: 495.0\n",
            "Desconto sindicato é: 99.0\n",
            "FGTS é: 363.0 (não descontado do salário)\n",
            "Salário liquido é: 99.0\n"
          ]
        }
      ]
    }
  ]
}